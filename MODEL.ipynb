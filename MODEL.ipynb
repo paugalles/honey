{
 "cells": [
  {
   "cell_type": "code",
   "execution_count": 60,
   "id": "1786475e-c39b-4a6c-a52c-0431bfd95acd",
   "metadata": {},
   "outputs": [],
   "source": [
    "import os\n",
    "import random\n",
    "import glob\n",
    "import cv2\n",
    "\n",
    "import numpy as np\n",
    "\n",
    "from torch import nn, optim\n",
    "from torch.utils.data import Dataset, DataLoader"
   ]
  },
  {
   "cell_type": "code",
   "execution_count": 58,
   "id": "bec3d7f3-3481-4a5d-80d9-2b1f7a2f586e",
   "metadata": {},
   "outputs": [],
   "source": [
    "from sklearn.metrics import roc_auc_score"
   ]
  },
  {
   "cell_type": "code",
   "execution_count": 73,
   "id": "389dc9e2-b897-4cca-9b20-223aac03734d",
   "metadata": {},
   "outputs": [
    {
     "name": "stdout",
     "output_type": "stream",
     "text": [
      "(3, 1) (3, 1)\n"
     ]
    },
    {
     "data": {
      "text/plain": [
       "0.5"
      ]
     },
     "execution_count": 73,
     "metadata": {},
     "output_type": "execute_result"
    }
   ],
   "source": [
    "a=np.array([0,1,0])\n",
    "b=np.array([0.1,0.1,0.1])\n",
    "\n",
    "a=np.expand_dims(a, axis=-1)\n",
    "b=np.expand_dims(b, axis=-1)\n",
    "\n",
    "print(a.shape, b.shape)\n",
    "\n",
    "roc_auc_score(\n",
    "    a,\n",
    "    b,\n",
    "    multi_class='ovr',\n",
    "    labels=[0,1,2]\n",
    ")"
   ]
  },
  {
   "cell_type": "code",
   "execution_count": null,
   "id": "f15851fa-e4d2-4f9a-8077-8477b521e2ab",
   "metadata": {},
   "outputs": [],
   "source": []
  },
  {
   "cell_type": "markdown",
   "id": "654663ae-df4c-4d27-a6f0-bd1907708a97",
   "metadata": {},
   "source": [
    "## Predict a by quering regular sampling\n",
    "\n",
    "* For now, we decide to query the 15th for each month"
   ]
  },
  {
   "cell_type": "code",
   "execution_count": null,
   "id": "85e01e52-594a-495e-8b75-743f3d3ca362",
   "metadata": {},
   "outputs": [],
   "source": []
  },
  {
   "cell_type": "code",
   "execution_count": null,
   "id": "4ec3d857-1c61-45c3-94ef-02722dc418c1",
   "metadata": {},
   "outputs": [],
   "source": []
  }
 ],
 "metadata": {
  "kernelspec": {
   "display_name": "Python 3",
   "language": "python",
   "name": "python3"
  },
  "language_info": {
   "codemirror_mode": {
    "name": "ipython",
    "version": 3
   },
   "file_extension": ".py",
   "mimetype": "text/x-python",
   "name": "python",
   "nbconvert_exporter": "python",
   "pygments_lexer": "ipython3",
   "version": "3.6.9"
  }
 },
 "nbformat": 4,
 "nbformat_minor": 5
}
